{
 "cells": [
  {
   "cell_type": "code",
   "execution_count": 1,
   "id": "40364d5d",
   "metadata": {
    "_cell_guid": "b1076dfc-b9ad-4769-8c92-a6c4dae69d19",
    "_uuid": "8f2839f25d086af736a60e9eeb907d3b93b6e0e5",
    "execution": {
     "iopub.execute_input": "2022-12-09T14:14:46.711406Z",
     "iopub.status.busy": "2022-12-09T14:14:46.710949Z",
     "iopub.status.idle": "2022-12-09T14:14:49.234053Z",
     "shell.execute_reply": "2022-12-09T14:14:49.231614Z"
    },
    "papermill": {
     "duration": 2.542114,
     "end_time": "2022-12-09T14:14:49.236980",
     "exception": false,
     "start_time": "2022-12-09T14:14:46.694866",
     "status": "completed"
    },
    "tags": []
   },
   "outputs": [
    {
     "data": {
      "text/html": [
       "<style type='text/css'>\n",
       ".datatable table.frame { margin-bottom: 0; }\n",
       ".datatable table.frame thead { border-bottom: none; }\n",
       ".datatable table.frame tr.coltypes td {  color: #FFFFFF;  line-height: 6px;  padding: 0 0.5em;}\n",
       ".datatable .bool    { background: #DDDD99; }\n",
       ".datatable .object  { background: #565656; }\n",
       ".datatable .int     { background: #5D9E5D; }\n",
       ".datatable .float   { background: #4040CC; }\n",
       ".datatable .str     { background: #CC4040; }\n",
       ".datatable .time    { background: #40CC40; }\n",
       ".datatable .row_index {  background: var(--jp-border-color3);  border-right: 1px solid var(--jp-border-color0);  color: var(--jp-ui-font-color3);  font-size: 9px;}\n",
       ".datatable .frame tbody td { text-align: left; }\n",
       ".datatable .frame tr.coltypes .row_index {  background: var(--jp-border-color0);}\n",
       ".datatable th:nth-child(2) { padding-left: 12px; }\n",
       ".datatable .hellipsis {  color: var(--jp-cell-editor-border-color);}\n",
       ".datatable .vellipsis {  background: var(--jp-layout-color0);  color: var(--jp-cell-editor-border-color);}\n",
       ".datatable .na {  color: var(--jp-cell-editor-border-color);  font-size: 80%;}\n",
       ".datatable .sp {  opacity: 0.25;}\n",
       ".datatable .footer { font-size: 9px; }\n",
       ".datatable .frame_dimensions {  background: var(--jp-border-color3);  border-top: 1px solid var(--jp-border-color0);  color: var(--jp-ui-font-color3);  display: inline-block;  opacity: 0.6;  padding: 1px 10px 1px 5px;}\n",
       ".datatable .frame thead tr.colnames {  background-image: url('data:image/png;base64,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');  background-repeat: repeat-x;  background-size: 14px;  height: 28px;}\n",
       "</style>\n"
      ],
      "text/plain": [
       "<IPython.core.display.HTML object>"
      ]
     },
     "metadata": {},
     "output_type": "display_data"
    },
    {
     "name": "stdout",
     "output_type": "stream",
     "text": [
      "/kaggle/input/openintro-possum/possum.csv\n"
     ]
    }
   ],
   "source": [
    "# This Python 3 environment comes with many helpful analytics libraries installed\n",
    "# It is defined by the kaggle/python Docker image: https://github.com/kaggle/docker-python\n",
    "# For example, here's several helpful packages to load\n",
    "\n",
    "import numpy as np # linear algebra\n",
    "import pandas as pd # data processing, CSV file I/O (e.g. pd.read_csv)\n",
    "\n",
    "import seaborn as sns\n",
    "import matplotlib.pyplot as plt\n",
    "%matplotlib inline\n",
    "\n",
    "from pandas.plotting import scatter_matrix\n",
    "\n",
    "from sklearn.preprocessing import StandardScaler,MinMaxScaler,RobustScaler\n",
    "from scipy.stats import boxcox\n",
    "from sklearn.model_selection import train_test_split\n",
    "\n",
    "from sklearn.linear_model import LinearRegression\n",
    "\n",
    "#import model evaluation libraries\n",
    "from sklearn.metrics import mean_squared_error\n",
    "from sklearn.metrics import r2_score\n",
    "\n",
    "from sklearn.model_selection import cross_val_score\n",
    "from sklearn.model_selection import cross_validate, GridSearchCV\n",
    "from sklearn.naive_bayes import GaussianNB\n",
    "from sklearn.linear_model import LogisticRegression\n",
    "from sklearn import tree\n",
    "from sklearn.neighbors import KNeighborsClassifier\n",
    "from sklearn.ensemble import RandomForestClassifier\n",
    "from sklearn.svm import SVC\n",
    "from sklearn.tree import DecisionTreeClassifier\n",
    "from sklearn.neural_network import MLPClassifier\n",
    "from xgboost import XGBClassifier\n",
    "from lightgbm import LGBMClassifier\n",
    "from sklearn.metrics import classification_report, accuracy_score, f1_score, confusion_matrix\n",
    "\n",
    "from sklearn.preprocessing import OneHotEncoder\n",
    "\n",
    "\n",
    "# Input data files are available in the read-only \"../input/\" directory\n",
    "# For example, running this (by clicking run or pressing Shift+Enter) will list all files under the input directory\n",
    "\n",
    "import os\n",
    "for dirname, _, filenames in os.walk('/kaggle/input'):\n",
    "    for filename in filenames:\n",
    "        print(os.path.join(dirname, filename))\n",
    "        \n",
    "        \n",
    "\n",
    "# You can write up to 20GB to the current directory (/kaggle/working/) that gets preserved as output when you create a version using \"Save & Run All\" \n",
    "# You can also write temporary files to /kaggle/temp/, but they won't be saved outside of the current session"
   ]
  },
  {
   "cell_type": "markdown",
   "id": "af7533e2",
   "metadata": {
    "papermill": {
     "duration": 0.012986,
     "end_time": "2022-12-09T14:14:49.265509",
     "exception": false,
     "start_time": "2022-12-09T14:14:49.252523",
     "status": "completed"
    },
    "tags": []
   },
   "source": [
    "# Introduction\n",
    "\"The possum data frame consists of nine morphometric measurements on each of 104 mountain brushtail possums, trapped at seven sites from Southern Victoria to central Queensland.\"\n",
    "<br><br>\n",
    "**Aim:**\n",
    "<br> In this notebook, various machine learning algorithms will be applied and to classify the sex of possums based on various body size measurements and location data"
   ]
  },
  {
   "cell_type": "markdown",
   "id": "9825ed99",
   "metadata": {
    "papermill": {
     "duration": 0.012706,
     "end_time": "2022-12-09T14:14:49.291248",
     "exception": false,
     "start_time": "2022-12-09T14:14:49.278542",
     "status": "completed"
    },
    "tags": []
   },
   "source": [
    "# Loading data and initial exploration"
   ]
  },
  {
   "cell_type": "code",
   "execution_count": 2,
   "id": "58d6e899",
   "metadata": {
    "execution": {
     "iopub.execute_input": "2022-12-09T14:14:49.319250Z",
     "iopub.status.busy": "2022-12-09T14:14:49.318627Z",
     "iopub.status.idle": "2022-12-09T14:14:49.337577Z",
     "shell.execute_reply": "2022-12-09T14:14:49.336162Z"
    },
    "papermill": {
     "duration": 0.035859,
     "end_time": "2022-12-09T14:14:49.340218",
     "exception": false,
     "start_time": "2022-12-09T14:14:49.304359",
     "status": "completed"
    },
    "tags": []
   },
   "outputs": [],
   "source": [
    "#load data from csv file\n",
    "data = pd.read_csv('../input/openintro-possum/possum.csv')"
   ]
  },
  {
   "cell_type": "code",
   "execution_count": 3,
   "id": "fe14060a",
   "metadata": {
    "execution": {
     "iopub.execute_input": "2022-12-09T14:14:49.367069Z",
     "iopub.status.busy": "2022-12-09T14:14:49.366724Z",
     "iopub.status.idle": "2022-12-09T14:14:49.394779Z",
     "shell.execute_reply": "2022-12-09T14:14:49.393703Z"
    },
    "papermill": {
     "duration": 0.044618,
     "end_time": "2022-12-09T14:14:49.397518",
     "exception": false,
     "start_time": "2022-12-09T14:14:49.352900",
     "status": "completed"
    },
    "tags": []
   },
   "outputs": [
    {
     "data": {
      "text/html": [
       "<div>\n",
       "<style scoped>\n",
       "    .dataframe tbody tr th:only-of-type {\n",
       "        vertical-align: middle;\n",
       "    }\n",
       "\n",
       "    .dataframe tbody tr th {\n",
       "        vertical-align: top;\n",
       "    }\n",
       "\n",
       "    .dataframe thead th {\n",
       "        text-align: right;\n",
       "    }\n",
       "</style>\n",
       "<table border=\"1\" class=\"dataframe\">\n",
       "  <thead>\n",
       "    <tr style=\"text-align: right;\">\n",
       "      <th></th>\n",
       "      <th>case</th>\n",
       "      <th>site</th>\n",
       "      <th>Pop</th>\n",
       "      <th>sex</th>\n",
       "      <th>age</th>\n",
       "      <th>hdlngth</th>\n",
       "      <th>skullw</th>\n",
       "      <th>totlngth</th>\n",
       "      <th>taill</th>\n",
       "      <th>footlgth</th>\n",
       "      <th>earconch</th>\n",
       "      <th>eye</th>\n",
       "      <th>chest</th>\n",
       "      <th>belly</th>\n",
       "    </tr>\n",
       "  </thead>\n",
       "  <tbody>\n",
       "    <tr>\n",
       "      <th>0</th>\n",
       "      <td>1</td>\n",
       "      <td>1</td>\n",
       "      <td>Vic</td>\n",
       "      <td>m</td>\n",
       "      <td>8.0</td>\n",
       "      <td>94.1</td>\n",
       "      <td>60.4</td>\n",
       "      <td>89.0</td>\n",
       "      <td>36.0</td>\n",
       "      <td>74.5</td>\n",
       "      <td>54.5</td>\n",
       "      <td>15.2</td>\n",
       "      <td>28.0</td>\n",
       "      <td>36.0</td>\n",
       "    </tr>\n",
       "    <tr>\n",
       "      <th>1</th>\n",
       "      <td>2</td>\n",
       "      <td>1</td>\n",
       "      <td>Vic</td>\n",
       "      <td>f</td>\n",
       "      <td>6.0</td>\n",
       "      <td>92.5</td>\n",
       "      <td>57.6</td>\n",
       "      <td>91.5</td>\n",
       "      <td>36.5</td>\n",
       "      <td>72.5</td>\n",
       "      <td>51.2</td>\n",
       "      <td>16.0</td>\n",
       "      <td>28.5</td>\n",
       "      <td>33.0</td>\n",
       "    </tr>\n",
       "    <tr>\n",
       "      <th>2</th>\n",
       "      <td>3</td>\n",
       "      <td>1</td>\n",
       "      <td>Vic</td>\n",
       "      <td>f</td>\n",
       "      <td>6.0</td>\n",
       "      <td>94.0</td>\n",
       "      <td>60.0</td>\n",
       "      <td>95.5</td>\n",
       "      <td>39.0</td>\n",
       "      <td>75.4</td>\n",
       "      <td>51.9</td>\n",
       "      <td>15.5</td>\n",
       "      <td>30.0</td>\n",
       "      <td>34.0</td>\n",
       "    </tr>\n",
       "    <tr>\n",
       "      <th>3</th>\n",
       "      <td>4</td>\n",
       "      <td>1</td>\n",
       "      <td>Vic</td>\n",
       "      <td>f</td>\n",
       "      <td>6.0</td>\n",
       "      <td>93.2</td>\n",
       "      <td>57.1</td>\n",
       "      <td>92.0</td>\n",
       "      <td>38.0</td>\n",
       "      <td>76.1</td>\n",
       "      <td>52.2</td>\n",
       "      <td>15.2</td>\n",
       "      <td>28.0</td>\n",
       "      <td>34.0</td>\n",
       "    </tr>\n",
       "    <tr>\n",
       "      <th>4</th>\n",
       "      <td>5</td>\n",
       "      <td>1</td>\n",
       "      <td>Vic</td>\n",
       "      <td>f</td>\n",
       "      <td>2.0</td>\n",
       "      <td>91.5</td>\n",
       "      <td>56.3</td>\n",
       "      <td>85.5</td>\n",
       "      <td>36.0</td>\n",
       "      <td>71.0</td>\n",
       "      <td>53.2</td>\n",
       "      <td>15.1</td>\n",
       "      <td>28.5</td>\n",
       "      <td>33.0</td>\n",
       "    </tr>\n",
       "  </tbody>\n",
       "</table>\n",
       "</div>"
      ],
      "text/plain": [
       "   case  site  Pop sex  age  hdlngth  skullw  totlngth  taill  footlgth  \\\n",
       "0     1     1  Vic   m  8.0     94.1    60.4      89.0   36.0      74.5   \n",
       "1     2     1  Vic   f  6.0     92.5    57.6      91.5   36.5      72.5   \n",
       "2     3     1  Vic   f  6.0     94.0    60.0      95.5   39.0      75.4   \n",
       "3     4     1  Vic   f  6.0     93.2    57.1      92.0   38.0      76.1   \n",
       "4     5     1  Vic   f  2.0     91.5    56.3      85.5   36.0      71.0   \n",
       "\n",
       "   earconch   eye  chest  belly  \n",
       "0      54.5  15.2   28.0   36.0  \n",
       "1      51.2  16.0   28.5   33.0  \n",
       "2      51.9  15.5   30.0   34.0  \n",
       "3      52.2  15.2   28.0   34.0  \n",
       "4      53.2  15.1   28.5   33.0  "
      ]
     },
     "execution_count": 3,
     "metadata": {},
     "output_type": "execute_result"
    }
   ],
   "source": [
    "data.head()"
   ]
  },
  {
   "cell_type": "code",
   "execution_count": 4,
   "id": "33f14163",
   "metadata": {
    "execution": {
     "iopub.execute_input": "2022-12-09T14:14:49.425716Z",
     "iopub.status.busy": "2022-12-09T14:14:49.425344Z",
     "iopub.status.idle": "2022-12-09T14:14:49.437149Z",
     "shell.execute_reply": "2022-12-09T14:14:49.435702Z"
    },
    "papermill": {
     "duration": 0.028375,
     "end_time": "2022-12-09T14:14:49.439093",
     "exception": false,
     "start_time": "2022-12-09T14:14:49.410718",
     "status": "completed"
    },
    "tags": []
   },
   "outputs": [],
   "source": [
    "# drop redundant index\n",
    "data.drop('case', axis = 1, inplace = True)"
   ]
  },
  {
   "cell_type": "code",
   "execution_count": 5,
   "id": "aa09239b",
   "metadata": {
    "execution": {
     "iopub.execute_input": "2022-12-09T14:14:49.467394Z",
     "iopub.status.busy": "2022-12-09T14:14:49.466411Z",
     "iopub.status.idle": "2022-12-09T14:14:49.472860Z",
     "shell.execute_reply": "2022-12-09T14:14:49.472197Z"
    },
    "papermill": {
     "duration": 0.022907,
     "end_time": "2022-12-09T14:14:49.475144",
     "exception": false,
     "start_time": "2022-12-09T14:14:49.452237",
     "status": "completed"
    },
    "tags": []
   },
   "outputs": [
    {
     "data": {
      "text/plain": [
       "(104, 13)"
      ]
     },
     "execution_count": 5,
     "metadata": {},
     "output_type": "execute_result"
    }
   ],
   "source": [
    "data.shape"
   ]
  },
  {
   "cell_type": "code",
   "execution_count": 6,
   "id": "388ca89a",
   "metadata": {
    "execution": {
     "iopub.execute_input": "2022-12-09T14:14:49.502947Z",
     "iopub.status.busy": "2022-12-09T14:14:49.502620Z",
     "iopub.status.idle": "2022-12-09T14:14:49.511855Z",
     "shell.execute_reply": "2022-12-09T14:14:49.510165Z"
    },
    "papermill": {
     "duration": 0.025771,
     "end_time": "2022-12-09T14:14:49.514038",
     "exception": false,
     "start_time": "2022-12-09T14:14:49.488267",
     "status": "completed"
    },
    "tags": []
   },
   "outputs": [
    {
     "data": {
      "text/plain": [
       "site          int64\n",
       "Pop          object\n",
       "sex          object\n",
       "age         float64\n",
       "hdlngth     float64\n",
       "skullw      float64\n",
       "totlngth    float64\n",
       "taill       float64\n",
       "footlgth    float64\n",
       "earconch    float64\n",
       "eye         float64\n",
       "chest       float64\n",
       "belly       float64\n",
       "dtype: object"
      ]
     },
     "execution_count": 6,
     "metadata": {},
     "output_type": "execute_result"
    }
   ],
   "source": [
    "data.dtypes"
   ]
  },
  {
   "cell_type": "code",
   "execution_count": 7,
   "id": "96902283",
   "metadata": {
    "execution": {
     "iopub.execute_input": "2022-12-09T14:14:49.541990Z",
     "iopub.status.busy": "2022-12-09T14:14:49.541646Z",
     "iopub.status.idle": "2022-12-09T14:14:49.562830Z",
     "shell.execute_reply": "2022-12-09T14:14:49.561791Z"
    },
    "papermill": {
     "duration": 0.03767,
     "end_time": "2022-12-09T14:14:49.564804",
     "exception": false,
     "start_time": "2022-12-09T14:14:49.527134",
     "status": "completed"
    },
    "tags": []
   },
   "outputs": [
    {
     "name": "stdout",
     "output_type": "stream",
     "text": [
      "<class 'pandas.core.frame.DataFrame'>\n",
      "RangeIndex: 104 entries, 0 to 103\n",
      "Data columns (total 13 columns):\n",
      " #   Column    Non-Null Count  Dtype  \n",
      "---  ------    --------------  -----  \n",
      " 0   site      104 non-null    int64  \n",
      " 1   Pop       104 non-null    object \n",
      " 2   sex       104 non-null    object \n",
      " 3   age       102 non-null    float64\n",
      " 4   hdlngth   104 non-null    float64\n",
      " 5   skullw    104 non-null    float64\n",
      " 6   totlngth  104 non-null    float64\n",
      " 7   taill     104 non-null    float64\n",
      " 8   footlgth  103 non-null    float64\n",
      " 9   earconch  104 non-null    float64\n",
      " 10  eye       104 non-null    float64\n",
      " 11  chest     104 non-null    float64\n",
      " 12  belly     104 non-null    float64\n",
      "dtypes: float64(10), int64(1), object(2)\n",
      "memory usage: 10.7+ KB\n"
     ]
    }
   ],
   "source": [
    "data.info()"
   ]
  },
  {
   "cell_type": "code",
   "execution_count": 8,
   "id": "ac7c8c0c",
   "metadata": {
    "execution": {
     "iopub.execute_input": "2022-12-09T14:14:49.592592Z",
     "iopub.status.busy": "2022-12-09T14:14:49.592201Z",
     "iopub.status.idle": "2022-12-09T14:14:49.599736Z",
     "shell.execute_reply": "2022-12-09T14:14:49.598669Z"
    },
    "papermill": {
     "duration": 0.024496,
     "end_time": "2022-12-09T14:14:49.602342",
     "exception": false,
     "start_time": "2022-12-09T14:14:49.577846",
     "status": "completed"
    },
    "tags": []
   },
   "outputs": [
    {
     "data": {
      "text/plain": [
       "site        0\n",
       "Pop         0\n",
       "sex         0\n",
       "age         2\n",
       "hdlngth     0\n",
       "skullw      0\n",
       "totlngth    0\n",
       "taill       0\n",
       "footlgth    1\n",
       "earconch    0\n",
       "eye         0\n",
       "chest       0\n",
       "belly       0\n",
       "dtype: int64"
      ]
     },
     "execution_count": 8,
     "metadata": {},
     "output_type": "execute_result"
    }
   ],
   "source": [
    "#checking for null values\n",
    "data.isna().sum()"
   ]
  },
  {
   "cell_type": "markdown",
   "id": "2d4909d4",
   "metadata": {
    "papermill": {
     "duration": 0.013887,
     "end_time": "2022-12-09T14:14:49.629816",
     "exception": false,
     "start_time": "2022-12-09T14:14:49.615929",
     "status": "completed"
    },
    "tags": []
   },
   "source": [
    "There are 3 null values in the data which must be taken care of before modeling"
   ]
  },
  {
   "cell_type": "code",
   "execution_count": 9,
   "id": "d4ec8aa4",
   "metadata": {
    "execution": {
     "iopub.execute_input": "2022-12-09T14:14:49.658887Z",
     "iopub.status.busy": "2022-12-09T14:14:49.658512Z",
     "iopub.status.idle": "2022-12-09T14:14:49.672338Z",
     "shell.execute_reply": "2022-12-09T14:14:49.670711Z"
    },
    "papermill": {
     "duration": 0.031154,
     "end_time": "2022-12-09T14:14:49.674709",
     "exception": false,
     "start_time": "2022-12-09T14:14:49.643555",
     "status": "completed"
    },
    "tags": []
   },
   "outputs": [
    {
     "data": {
      "text/plain": [
       "site         7\n",
       "Pop          2\n",
       "sex          2\n",
       "age          9\n",
       "hdlngth     71\n",
       "skullw      64\n",
       "totlngth    34\n",
       "taill       19\n",
       "footlgth    75\n",
       "earconch    69\n",
       "eye         35\n",
       "chest       19\n",
       "belly       24\n",
       "dtype: int64"
      ]
     },
     "execution_count": 9,
     "metadata": {},
     "output_type": "execute_result"
    }
   ],
   "source": [
    "data.nunique(axis=0)"
   ]
  },
  {
   "cell_type": "code",
   "execution_count": 10,
   "id": "b57275c2",
   "metadata": {
    "execution": {
     "iopub.execute_input": "2022-12-09T14:14:49.704012Z",
     "iopub.status.busy": "2022-12-09T14:14:49.703614Z",
     "iopub.status.idle": "2022-12-09T14:14:49.712330Z",
     "shell.execute_reply": "2022-12-09T14:14:49.711156Z"
    },
    "papermill": {
     "duration": 0.026662,
     "end_time": "2022-12-09T14:14:49.715251",
     "exception": false,
     "start_time": "2022-12-09T14:14:49.688589",
     "status": "completed"
    },
    "tags": []
   },
   "outputs": [
    {
     "data": {
      "text/plain": [
       "0"
      ]
     },
     "execution_count": 10,
     "metadata": {},
     "output_type": "execute_result"
    }
   ],
   "source": [
    "#checking for duplicated columns\n",
    "data.duplicated().sum()"
   ]
  },
  {
   "cell_type": "markdown",
   "id": "01a02556",
   "metadata": {
    "papermill": {
     "duration": 0.0138,
     "end_time": "2022-12-09T14:14:49.743477",
     "exception": false,
     "start_time": "2022-12-09T14:14:49.729677",
     "status": "completed"
    },
    "tags": []
   },
   "source": [
    "There are no duplicate columns in the data :)"
   ]
  },
  {
   "cell_type": "code",
   "execution_count": 11,
   "id": "6292b647",
   "metadata": {
    "execution": {
     "iopub.execute_input": "2022-12-09T14:14:49.773112Z",
     "iopub.status.busy": "2022-12-09T14:14:49.772709Z",
     "iopub.status.idle": "2022-12-09T14:14:49.781109Z",
     "shell.execute_reply": "2022-12-09T14:14:49.779588Z"
    },
    "papermill": {
     "duration": 0.026478,
     "end_time": "2022-12-09T14:14:49.783207",
     "exception": false,
     "start_time": "2022-12-09T14:14:49.756729",
     "status": "completed"
    },
    "tags": []
   },
   "outputs": [],
   "source": [
    "#impute null values \n",
    "data.age = data.age.fillna(data.age.median())\n",
    "data.footlgth = data.footlgth.fillna(data.footlgth.median())"
   ]
  },
  {
   "cell_type": "code",
   "execution_count": 12,
   "id": "7ae9d545",
   "metadata": {
    "execution": {
     "iopub.execute_input": "2022-12-09T14:14:49.812428Z",
     "iopub.status.busy": "2022-12-09T14:14:49.812026Z",
     "iopub.status.idle": "2022-12-09T14:14:49.822222Z",
     "shell.execute_reply": "2022-12-09T14:14:49.820604Z"
    },
    "papermill": {
     "duration": 0.02821,
     "end_time": "2022-12-09T14:14:49.825239",
     "exception": false,
     "start_time": "2022-12-09T14:14:49.797029",
     "status": "completed"
    },
    "tags": []
   },
   "outputs": [
    {
     "data": {
      "text/plain": [
       "site        0\n",
       "Pop         0\n",
       "sex         0\n",
       "age         0\n",
       "hdlngth     0\n",
       "skullw      0\n",
       "totlngth    0\n",
       "taill       0\n",
       "footlgth    0\n",
       "earconch    0\n",
       "eye         0\n",
       "chest       0\n",
       "belly       0\n",
       "dtype: int64"
      ]
     },
     "execution_count": 12,
     "metadata": {},
     "output_type": "execute_result"
    }
   ],
   "source": [
    "#check for remaining nulls\n",
    "data.isna().sum()"
   ]
  },
  {
   "cell_type": "markdown",
   "id": "3722c236",
   "metadata": {
    "papermill": {
     "duration": 0.014315,
     "end_time": "2022-12-09T14:14:49.853854",
     "exception": false,
     "start_time": "2022-12-09T14:14:49.839539",
     "status": "completed"
    },
    "tags": []
   },
   "source": [
    "There are no remaining null values and the data has been successfully cleaned."
   ]
  },
  {
   "cell_type": "markdown",
   "id": "944e5930",
   "metadata": {
    "papermill": {
     "duration": 0.017949,
     "end_time": "2022-12-09T14:14:49.889498",
     "exception": false,
     "start_time": "2022-12-09T14:14:49.871549",
     "status": "completed"
    },
    "tags": []
   },
   "source": [
    "# Exploratory Data Analysis\n",
    "Let's start simple by making histograms for all of the data"
   ]
  },
  {
   "cell_type": "code",
   "execution_count": 13,
   "id": "77f75152",
   "metadata": {
    "execution": {
     "iopub.execute_input": "2022-12-09T14:14:49.922614Z",
     "iopub.status.busy": "2022-12-09T14:14:49.922125Z",
     "iopub.status.idle": "2022-12-09T14:14:51.830196Z",
     "shell.execute_reply": "2022-12-09T14:14:51.829508Z"
    },
    "papermill": {
     "duration": 1.925616,
     "end_time": "2022-12-09T14:14:51.832238",
     "exception": false,
     "start_time": "2022-12-09T14:14:49.906622",
     "status": "completed"
    },
    "tags": []
   },
   "outputs": [
    {
     "data": {
      "image/png": "[encoded data removed]",
      "text/plain": [
       "<Figure size 432x288 with 1 Axes>"
      ]
     },
     "metadata": {
      "needs_background": "light"
     },
     "output_type": "display_data"
    },
    {
     "data": {
      "image/png": "[encoded data removed]",
      "text/plain": [
       "<Figure size 432x288 with 1 Axes>"
      ]
     },
     "metadata": {
      "needs_background": "light"
     },
     "output_type": "display_data"
    },
    {
     "data": {
      "image/png": "[encoded data removed]",
      "text/plain": [
       "<Figure size 432x288 with 1 Axes>"
      ]
     },
     "metadata": {
      "needs_background": "light"
     },
     "output_type": "display_data"
    },
    {
     "data": {
      "image/png": "[encoded data removed]",
      "text/plain": [
       "<Figure size 432x288 with 1 Axes>"
      ]
     },
     "metadata": {
      "needs_background": "light"
     },
     "output_type": "display_data"
    },
    {
     "data": {
      "image/png": "[encoded data removed]",
      "text/plain": [
       "<Figure size 432x288 with 1 Axes>"
      ]
     },
     "metadata": {
      "needs_background": "light"
     },
     "output_type": "display_data"
    },
    {
     "data": {
      "image/png": "[encoded data removed]",
      "text/plain": [
       "<Figure size 432x288 with 1 Axes>"
      ]
     },
     "metadata": {
      "needs_background": "light"
     },
     "output_type": "display_data"
    },
    {
     "data": {
      "image/png": "[encoded data removed]",
      "text/plain": [
       "<Figure size 432x288 with 1 Axes>"
      ]
     },
     "metadata": {
      "needs_background": "light"
     },
     "output_type": "display_data"
    },
    {
     "data": {
      "image/png": "[encoded data removed]",
      "text/plain": [
       "<Figure size 432x288 with 1 Axes>"
      ]
     },
     "metadata": {
      "needs_background": "light"
     },
     "output_type": "display_data"
    },
    {
     "data": {
      "image/png": "[encoded data removed]",
      "text/plain": [
       "<Figure size 432x288 with 1 Axes>"
      ]
     },
     "metadata": {
      "needs_background": "light"
     },
     "output_type": "display_data"
    },
    {
     "data": {
      "image/png": "[encoded data removed]",
      "text/plain": [
       "<Figure size 432x288 with 1 Axes>"
      ]
     },
     "metadata": {
      "needs_background": "light"
     },
     "output_type": "display_data"
    },
    {
     "data": {
      "image/png": "[encoded data removed]",
      "text/plain": [
       "<Figure size 432x288 with 1 Axes>"
      ]
     },
     "metadata": {
      "needs_background": "light"
     },
     "output_type": "display_data"
    },
    {
     "data": {
      "image/png": "[encoded data removed]",
      "text/plain": [
       "<Figure size 432x288 with 1 Axes>"
      ]
     },
     "metadata": {
      "needs_background": "light"
     },
     "output_type": "display_data"
    },
    {
     "data": {
      "image/png": "[encoded data removed]",
      "text/plain": [
       "<Figure size 432x288 with 1 Axes>"
      ]
     },
     "metadata": {
      "needs_background": "light"
     },
     "output_type": "display_data"
    }
   ],
   "source": [
    "for i in data.columns:\n",
    "    plt.hist(data[i])\n",
    "    plt.title(i)\n",
    "    plt.show()"
   ]
  },
  {
   "cell_type": "code",
   "execution_count": 14,
   "id": "bbf75262",
   "metadata": {
    "execution": {
     "iopub.execute_input": "2022-12-09T14:14:51.865721Z",
     "iopub.status.busy": "2022-12-09T14:14:51.865324Z",
     "iopub.status.idle": "2022-12-09T14:14:52.547764Z",
     "shell.execute_reply": "2022-12-09T14:14:52.546842Z"
    },
    "papermill": {
     "duration": 0.702143,
     "end_time": "2022-12-09T14:14:52.550298",
     "exception": false,
     "start_time": "2022-12-09T14:14:51.848155",
     "status": "completed"
    },
    "tags": []
   },
   "outputs": [
    {
     "data": {
      "text/plain": [
       "<AxesSubplot:>"
      ]
     },
     "execution_count": 14,
     "metadata": {},
     "output_type": "execute_result"
    },
    {
     "data": {
      "image/png": "[encoded data removed]",
      "text/plain": [
       "<Figure size 864x576 with 2 Axes>"
      ]
     },
     "metadata": {
      "needs_background": "light"
     },
     "output_type": "display_data"
    }
   ],
   "source": [
    "plt.figure(figsize = (12,8))\n",
    "sns.heatmap(data.corr(), annot = True, cmap = 'Spectral')"
   ]
  },
  {
   "cell_type": "markdown",
   "id": "4265411c",
   "metadata": {
    "papermill": {
     "duration": 0.017209,
     "end_time": "2022-12-09T14:14:52.584974",
     "exception": false,
     "start_time": "2022-12-09T14:14:52.567765",
     "status": "completed"
    },
    "tags": []
   },
   "source": [
    "Now let's look at how the data differs between sexes:"
   ]
  },
  {
   "cell_type": "code",
   "execution_count": 15,
   "id": "7249a991",
   "metadata": {
    "execution": {
     "iopub.execute_input": "2022-12-09T14:14:52.620520Z",
     "iopub.status.busy": "2022-12-09T14:14:52.620130Z",
     "iopub.status.idle": "2022-12-09T14:14:52.626402Z",
     "shell.execute_reply": "2022-12-09T14:14:52.625337Z"
    },
    "papermill": {
     "duration": 0.026088,
     "end_time": "2022-12-09T14:14:52.628154",
     "exception": false,
     "start_time": "2022-12-09T14:14:52.602066",
     "status": "completed"
    },
    "tags": []
   },
   "outputs": [],
   "source": [
    "#select data with 'float' type for graphing\n",
    "flt=data.select_dtypes(include='float')"
   ]
  },
  {
   "cell_type": "code",
   "execution_count": 16,
   "id": "32b40966",
   "metadata": {
    "execution": {
     "iopub.execute_input": "2022-12-09T14:14:52.663627Z",
     "iopub.status.busy": "2022-12-09T14:14:52.663004Z",
     "iopub.status.idle": "2022-12-09T14:14:54.443526Z",
     "shell.execute_reply": "2022-12-09T14:14:54.442471Z"
    },
    "papermill": {
     "duration": 1.800739,
     "end_time": "2022-12-09T14:14:54.445772",
     "exception": false,
     "start_time": "2022-12-09T14:14:52.645033",
     "status": "completed"
    },
    "tags": []
   },
   "outputs": [
    {
     "data": {
      "image/png": "[encoded data removed]",
      "text/plain": [
       "<Figure size 1440x1440 with 10 Axes>"
      ]
     },
     "metadata": {
      "needs_background": "light"
     },
     "output_type": "display_data"
    }
   ],
   "source": [
    "fig,axes=plt.subplots(nrows=5,ncols=2,figsize=(20,20))\n",
    "for i,j in enumerate(flt.columns):\n",
    "                sns.boxplot(x=data[j], y=data['sex'], hue=data['sex'], ax=axes[i//2,i%2])\n",
    "                #sns.histplot(x=data[j],hue=data['sex'],color='red', ax=axes[i//2,i%2])\n",
    "\n",
    "plt.subplots_adjust(wspace=0.5,hspace=0.9)"
   ]
  },
  {
   "cell_type": "markdown",
   "id": "a35a24e2",
   "metadata": {
    "papermill": {
     "duration": 0.01729,
     "end_time": "2022-12-09T14:14:54.481407",
     "exception": false,
     "start_time": "2022-12-09T14:14:54.464117",
     "status": "completed"
    },
    "tags": []
   },
   "source": [
    "**Boxplot findings:**\n",
    "* Median head length and eye is larger in male possums\n",
    "* Median total length, tail length, foot length, earconch, chest and belly is bigger in female possums "
   ]
  },
  {
   "cell_type": "markdown",
   "id": "70f4ce10",
   "metadata": {
    "papermill": {
     "duration": 0.017317,
     "end_time": "2022-12-09T14:14:54.516321",
     "exception": false,
     "start_time": "2022-12-09T14:14:54.499004",
     "status": "completed"
    },
    "tags": []
   },
   "source": [
    "# Categorical Data"
   ]
  },
  {
   "cell_type": "code",
   "execution_count": 17,
   "id": "9411e0c5",
   "metadata": {
    "execution": {
     "iopub.execute_input": "2022-12-09T14:14:54.553233Z",
     "iopub.status.busy": "2022-12-09T14:14:54.552836Z",
     "iopub.status.idle": "2022-12-09T14:14:54.557342Z",
     "shell.execute_reply": "2022-12-09T14:14:54.556182Z"
    },
    "papermill": {
     "duration": 0.02604,
     "end_time": "2022-12-09T14:14:54.559747",
     "exception": false,
     "start_time": "2022-12-09T14:14:54.533707",
     "status": "completed"
    },
    "tags": []
   },
   "outputs": [],
   "source": [
    "#categorical columns\n",
    "categorical = [\"sex\", 'Pop', 'site']"
   ]
  },
  {
   "cell_type": "code",
   "execution_count": 18,
   "id": "3bcfdb46",
   "metadata": {
    "execution": {
     "iopub.execute_input": "2022-12-09T14:14:54.595843Z",
     "iopub.status.busy": "2022-12-09T14:14:54.595492Z",
     "iopub.status.idle": "2022-12-09T14:14:54.811455Z",
     "shell.execute_reply": "2022-12-09T14:14:54.810159Z"
    },
    "papermill": {
     "duration": 0.237006,
     "end_time": "2022-12-09T14:14:54.813966",
     "exception": false,
     "start_time": "2022-12-09T14:14:54.576960",
     "status": "completed"
    },
    "tags": []
   },
   "outputs": [
    {
     "data": {
      "image/png": "[encoded data removed]",
      "text/plain": [
       "<Figure size 432x288 with 1 Axes>"
      ]
     },
     "metadata": {
      "needs_background": "light"
     },
     "output_type": "display_data"
    }
   ],
   "source": [
    "sns.boxplot(x=\"site\", y=\"age\", data=data); \n",
    "plt.title(\"Distribution of possum age from different sites\");"
   ]
  },
  {
   "cell_type": "code",
   "execution_count": 19,
   "id": "698355cc",
   "metadata": {
    "execution": {
     "iopub.execute_input": "2022-12-09T14:14:54.852168Z",
     "iopub.status.busy": "2022-12-09T14:14:54.851769Z",
     "iopub.status.idle": "2022-12-09T14:14:55.040870Z",
     "shell.execute_reply": "2022-12-09T14:14:55.040024Z"
    },
    "papermill": {
     "duration": 0.210857,
     "end_time": "2022-12-09T14:14:55.043131",
     "exception": false,
     "start_time": "2022-12-09T14:14:54.832274",
     "status": "completed"
    },
    "tags": []
   },
   "outputs": [
    {
     "data": {
      "image/png": "[encoded data removed]",
      "text/plain": [
       "<Figure size 432x288 with 1 Axes>"
      ]
     },
     "metadata": {
      "needs_background": "light"
     },
     "output_type": "display_data"
    }
   ],
   "source": [
    "sns.histplot(data=data,x=\"sex\", kde=False, hue=\"sex\",multiple=\"dodge\", shrink=.8)\n",
    "plt.title(\"Distribution of possum sexes\");"
   ]
  },
  {
   "cell_type": "code",
   "execution_count": 20,
   "id": "1c00ef89",
   "metadata": {
    "execution": {
     "iopub.execute_input": "2022-12-09T14:14:55.079799Z",
     "iopub.status.busy": "2022-12-09T14:14:55.079413Z",
     "iopub.status.idle": "2022-12-09T14:14:55.231301Z",
     "shell.execute_reply": "2022-12-09T14:14:55.230499Z"
    },
    "papermill": {
     "duration": 0.172861,
     "end_time": "2022-12-09T14:14:55.233467",
     "exception": false,
     "start_time": "2022-12-09T14:14:55.060606",
     "status": "completed"
    },
    "tags": []
   },
   "outputs": [
    {
     "data": {
      "image/png": "[encoded data removed]",
      "text/plain": [
       "<Figure size 432x288 with 1 Axes>"
      ]
     },
     "metadata": {
      "needs_background": "light"
     },
     "output_type": "display_data"
    }
   ],
   "source": [
    "sns.boxplot(x = \"age\", y = 'sex', data = data);\n",
    "plt.title(\"Distribution of possum age from different populations\");"
   ]
  },
  {
   "cell_type": "markdown",
   "id": "b5010a77",
   "metadata": {
    "papermill": {
     "duration": 0.017405,
     "end_time": "2022-12-09T14:14:55.269125",
     "exception": false,
     "start_time": "2022-12-09T14:14:55.251720",
     "status": "completed"
    },
    "tags": []
   },
   "source": [
    "**Categorical data findings:**\n",
    "* The entries are ~60% male\n",
    "* Female possums have a higher median age than males\n",
    "* Upon inspection of the columns, 'site' and 'Vic' are redundant, with sites 1 and 2 both being in Vic and the others being in other states. Therefore 'Vic' will be removed, as this information is already contained in 'site'\n"
   ]
  },
  {
   "cell_type": "code",
   "execution_count": 21,
   "id": "bb81ddba",
   "metadata": {
    "execution": {
     "iopub.execute_input": "2022-12-09T14:14:55.307472Z",
     "iopub.status.busy": "2022-12-09T14:14:55.306819Z",
     "iopub.status.idle": "2022-12-09T14:14:55.311989Z",
     "shell.execute_reply": "2022-12-09T14:14:55.310972Z"
    },
    "papermill": {
     "duration": 0.027155,
     "end_time": "2022-12-09T14:14:55.314253",
     "exception": false,
     "start_time": "2022-12-09T14:14:55.287098",
     "status": "completed"
    },
    "tags": []
   },
   "outputs": [],
   "source": [
    "#drop repetetive column\n",
    "data = data.drop('Pop', axis=1)"
   ]
  },
  {
   "cell_type": "markdown",
   "id": "2d673160",
   "metadata": {
    "papermill": {
     "duration": 0.017506,
     "end_time": "2022-12-09T14:14:55.349759",
     "exception": false,
     "start_time": "2022-12-09T14:14:55.332253",
     "status": "completed"
    },
    "tags": []
   },
   "source": [
    "# Data Skewness"
   ]
  },
  {
   "cell_type": "markdown",
   "id": "259d5015",
   "metadata": {
    "papermill": {
     "duration": 0.017546,
     "end_time": "2022-12-09T14:14:55.385231",
     "exception": false,
     "start_time": "2022-12-09T14:14:55.367685",
     "status": "completed"
    },
    "tags": []
   },
   "source": [
    "Skewness is a measurement of distortion of symmetrical distribution or asymmetry in data. Some regression techniques don't preform well with skewed data so we will first check how skewed each feature is"
   ]
  },
  {
   "cell_type": "markdown",
   "id": "68dfc676",
   "metadata": {
    "papermill": {
     "duration": 0.017682,
     "end_time": "2022-12-09T14:14:55.421421",
     "exception": false,
     "start_time": "2022-12-09T14:14:55.403739",
     "status": "completed"
    },
    "tags": []
   },
   "source": [
    "**Levels of skewness**\n",
    "\n",
    "* < |0.5| = lowly skewed\n",
    "* |1.0-0.5| = moderately skewed\n",
    "* \\> |1.0| = highly skewed "
   ]
  },
  {
   "cell_type": "code",
   "execution_count": 22,
   "id": "729f9791",
   "metadata": {
    "execution": {
     "iopub.execute_input": "2022-12-09T14:14:55.459770Z",
     "iopub.status.busy": "2022-12-09T14:14:55.459036Z",
     "iopub.status.idle": "2022-12-09T14:14:57.340188Z",
     "shell.execute_reply": "2022-12-09T14:14:57.338972Z"
    },
    "papermill": {
     "duration": 1.903514,
     "end_time": "2022-12-09T14:14:57.342847",
     "exception": false,
     "start_time": "2022-12-09T14:14:55.439333",
     "status": "completed"
    },
    "tags": []
   },
   "outputs": [
    {
     "data": {
      "image/png": "[encoded data removed]",
      "text/plain": [
       "<Figure size 720x720 with 9 Axes>"
      ]
     },
     "metadata": {
      "needs_background": "light"
     },
     "output_type": "display_data"
    }
   ],
   "source": [
    "num = ['hdlngth',\n",
    " 'skullw',\n",
    " 'totlngth',\n",
    " 'taill',\n",
    " 'footlgth',\n",
    " 'earconch',\n",
    " 'eye',\n",
    " 'chest',\n",
    " 'belly']\n",
    "\n",
    "fig,ax=plt.subplots(3,3, figsize=(10,10),constrained_layout=True)\n",
    "ax=ax.ravel()\n",
    "\n",
    "for index, col in enumerate(num):\n",
    "    sns.histplot(x=col,data=data,ax=ax[index],\n",
    "               kde=True)\n",
    "    ax[index].set_title(f'Skewness:{data[col].skew(axis = 0)}')"
   ]
  },
  {
   "cell_type": "markdown",
   "id": "388a6dcc",
   "metadata": {
    "papermill": {
     "duration": 0.018931,
     "end_time": "2022-12-09T14:14:57.381400",
     "exception": false,
     "start_time": "2022-12-09T14:14:57.362469",
     "status": "completed"
    },
    "tags": []
   },
   "source": [
    "As we can see, skull width is highly positively skewed."
   ]
  },
  {
   "cell_type": "markdown",
   "id": "12e78553",
   "metadata": {
    "papermill": {
     "duration": 0.019147,
     "end_time": "2022-12-09T14:14:57.419873",
     "exception": false,
     "start_time": "2022-12-09T14:14:57.400726",
     "status": "completed"
    },
    "tags": []
   },
   "source": [
    "# Dealing with Skewed Skull Width\n",
    "Skull width is highly skewed, therefore it will be normalized so it doesn't interfere with ML calculations"
   ]
  },
  {
   "cell_type": "code",
   "execution_count": 23,
   "id": "e1fdfc2b",
   "metadata": {
    "execution": {
     "iopub.execute_input": "2022-12-09T14:14:57.460569Z",
     "iopub.status.busy": "2022-12-09T14:14:57.460174Z",
     "iopub.status.idle": "2022-12-09T14:14:57.689053Z",
     "shell.execute_reply": "2022-12-09T14:14:57.687575Z"
    },
    "papermill": {
     "duration": 0.252732,
     "end_time": "2022-12-09T14:14:57.692453",
     "exception": false,
     "start_time": "2022-12-09T14:14:57.439721",
     "status": "completed"
    },
    "tags": []
   },
   "outputs": [
    {
     "data": {
      "image/png": "[encoded data removed]",
      "text/plain": [
       "<Figure size 864x468 with 1 Axes>"
      ]
     },
     "metadata": {
      "needs_background": "light"
     },
     "output_type": "display_data"
    }
   ],
   "source": [
    "#skull width before normalization attribute plot\n",
    "plt.figure(figsize=(12,6.5)) \n",
    "plt.title('Skull width before normalization', fontsize=15, fontweight='bold', fontname='Helvetica', ha='center')\n",
    "sns.histplot(data=data, x=\"skullw\", kde=True, color='#409996')\n",
    "plt.show()"
   ]
  },
  {
   "cell_type": "code",
   "execution_count": 24,
   "id": "025116c0",
   "metadata": {
    "execution": {
     "iopub.execute_input": "2022-12-09T14:14:57.733535Z",
     "iopub.status.busy": "2022-12-09T14:14:57.733151Z",
     "iopub.status.idle": "2022-12-09T14:14:57.740865Z",
     "shell.execute_reply": "2022-12-09T14:14:57.739547Z"
    },
    "papermill": {
     "duration": 0.031667,
     "end_time": "2022-12-09T14:14:57.743773",
     "exception": false,
     "start_time": "2022-12-09T14:14:57.712106",
     "status": "completed"
    },
    "tags": []
   },
   "outputs": [],
   "source": [
    "#normalization of skull width attribute\n",
    "#box-cox transformation: a way to transform power-law or non-linear distribution to normal\n",
    "data['skullw'] = boxcox(x=data['skullw'])[0]"
   ]
  },
  {
   "cell_type": "code",
   "execution_count": 25,
   "id": "7a6deecf",
   "metadata": {
    "execution": {
     "iopub.execute_input": "2022-12-09T14:14:57.785321Z",
     "iopub.status.busy": "2022-12-09T14:14:57.783971Z",
     "iopub.status.idle": "2022-12-09T14:14:57.994572Z",
     "shell.execute_reply": "2022-12-09T14:14:57.992933Z"
    },
    "papermill": {
     "duration": 0.233539,
     "end_time": "2022-12-09T14:14:57.996802",
     "exception": false,
     "start_time": "2022-12-09T14:14:57.763263",
     "status": "completed"
    },
    "tags": []
   },
   "outputs": [
    {
     "data": {
      "image/png": "[encoded data removed]",
      "text/plain": [
       "<Figure size 864x468 with 1 Axes>"
      ]
     },
     "metadata": {
      "needs_background": "light"
     },
     "output_type": "display_data"
    }
   ],
   "source": [
    "#normalization of skull width attribute plot\n",
    "plt.figure(figsize=(12,6.5)) \n",
    "plt.title('Skull width after normalization', fontsize=15, fontweight='bold', fontname='Helvetica', ha='center')\n",
    "sns.histplot(data=data, x=\"skullw\", kde=True, color='#409996')\n",
    "plt.show()"
   ]
  },
  {
   "cell_type": "markdown",
   "id": "5c72a338",
   "metadata": {
    "papermill": {
     "duration": 0.0196,
     "end_time": "2022-12-09T14:14:58.036255",
     "exception": false,
     "start_time": "2022-12-09T14:14:58.016655",
     "status": "completed"
    },
    "tags": []
   },
   "source": [
    "Now the data has been adequately cleaned and skull width was normalized, so it can now be modeled."
   ]
  },
  {
   "cell_type": "markdown",
   "id": "3e2be66b",
   "metadata": {
    "papermill": {
     "duration": 0.018963,
     "end_time": "2022-12-09T14:14:58.074643",
     "exception": false,
     "start_time": "2022-12-09T14:14:58.055680",
     "status": "completed"
    },
    "tags": []
   },
   "source": [
    "# Modeling"
   ]
  },
  {
   "cell_type": "code",
   "execution_count": 26,
   "id": "bcfe347d",
   "metadata": {
    "execution": {
     "iopub.execute_input": "2022-12-09T14:14:58.115546Z",
     "iopub.status.busy": "2022-12-09T14:14:58.114362Z",
     "iopub.status.idle": "2022-12-09T14:14:58.137617Z",
     "shell.execute_reply": "2022-12-09T14:14:58.136161Z"
    },
    "papermill": {
     "duration": 0.046422,
     "end_time": "2022-12-09T14:14:58.140482",
     "exception": false,
     "start_time": "2022-12-09T14:14:58.094060",
     "status": "completed"
    },
    "tags": []
   },
   "outputs": [
    {
     "data": {
      "text/html": [
       "<div>\n",
       "<style scoped>\n",
       "    .dataframe tbody tr th:only-of-type {\n",
       "        vertical-align: middle;\n",
       "    }\n",
       "\n",
       "    .dataframe tbody tr th {\n",
       "        vertical-align: top;\n",
       "    }\n",
       "\n",
       "    .dataframe thead th {\n",
       "        text-align: right;\n",
       "    }\n",
       "</style>\n",
       "<table border=\"1\" class=\"dataframe\">\n",
       "  <thead>\n",
       "    <tr style=\"text-align: right;\">\n",
       "      <th></th>\n",
       "      <th>site</th>\n",
       "      <th>age</th>\n",
       "      <th>hdlngth</th>\n",
       "      <th>skullw</th>\n",
       "      <th>totlngth</th>\n",
       "      <th>taill</th>\n",
       "      <th>footlgth</th>\n",
       "      <th>earconch</th>\n",
       "      <th>eye</th>\n",
       "      <th>chest</th>\n",
       "      <th>belly</th>\n",
       "      <th>sex_f</th>\n",
       "      <th>sex_m</th>\n",
       "    </tr>\n",
       "  </thead>\n",
       "  <tbody>\n",
       "    <tr>\n",
       "      <th>0</th>\n",
       "      <td>1</td>\n",
       "      <td>8.0</td>\n",
       "      <td>94.1</td>\n",
       "      <td>0.302251</td>\n",
       "      <td>89.0</td>\n",
       "      <td>36.0</td>\n",
       "      <td>74.5</td>\n",
       "      <td>54.5</td>\n",
       "      <td>15.2</td>\n",
       "      <td>28.0</td>\n",
       "      <td>36.0</td>\n",
       "      <td>0</td>\n",
       "      <td>1</td>\n",
       "    </tr>\n",
       "    <tr>\n",
       "      <th>1</th>\n",
       "      <td>1</td>\n",
       "      <td>6.0</td>\n",
       "      <td>92.5</td>\n",
       "      <td>0.302251</td>\n",
       "      <td>91.5</td>\n",
       "      <td>36.5</td>\n",
       "      <td>72.5</td>\n",
       "      <td>51.2</td>\n",
       "      <td>16.0</td>\n",
       "      <td>28.5</td>\n",
       "      <td>33.0</td>\n",
       "      <td>1</td>\n",
       "      <td>0</td>\n",
       "    </tr>\n",
       "    <tr>\n",
       "      <th>2</th>\n",
       "      <td>1</td>\n",
       "      <td>6.0</td>\n",
       "      <td>94.0</td>\n",
       "      <td>0.302251</td>\n",
       "      <td>95.5</td>\n",
       "      <td>39.0</td>\n",
       "      <td>75.4</td>\n",
       "      <td>51.9</td>\n",
       "      <td>15.5</td>\n",
       "      <td>30.0</td>\n",
       "      <td>34.0</td>\n",
       "      <td>1</td>\n",
       "      <td>0</td>\n",
       "    </tr>\n",
       "    <tr>\n",
       "      <th>3</th>\n",
       "      <td>1</td>\n",
       "      <td>6.0</td>\n",
       "      <td>93.2</td>\n",
       "      <td>0.302251</td>\n",
       "      <td>92.0</td>\n",
       "      <td>38.0</td>\n",
       "      <td>76.1</td>\n",
       "      <td>52.2</td>\n",
       "      <td>15.2</td>\n",
       "      <td>28.0</td>\n",
       "      <td>34.0</td>\n",
       "      <td>1</td>\n",
       "      <td>0</td>\n",
       "    </tr>\n",
       "    <tr>\n",
       "      <th>4</th>\n",
       "      <td>1</td>\n",
       "      <td>2.0</td>\n",
       "      <td>91.5</td>\n",
       "      <td>0.302251</td>\n",
       "      <td>85.5</td>\n",
       "      <td>36.0</td>\n",
       "      <td>71.0</td>\n",
       "      <td>53.2</td>\n",
       "      <td>15.1</td>\n",
       "      <td>28.5</td>\n",
       "      <td>33.0</td>\n",
       "      <td>1</td>\n",
       "      <td>0</td>\n",
       "    </tr>\n",
       "  </tbody>\n",
       "</table>\n",
       "</div>"
      ],
      "text/plain": [
       "   site  age  hdlngth    skullw  totlngth  taill  footlgth  earconch   eye  \\\n",
       "0     1  8.0     94.1  0.302251      89.0   36.0      74.5      54.5  15.2   \n",
       "1     1  6.0     92.5  0.302251      91.5   36.5      72.5      51.2  16.0   \n",
       "2     1  6.0     94.0  0.302251      95.5   39.0      75.4      51.9  15.5   \n",
       "3     1  6.0     93.2  0.302251      92.0   38.0      76.1      52.2  15.2   \n",
       "4     1  2.0     91.5  0.302251      85.5   36.0      71.0      53.2  15.1   \n",
       "\n",
       "   chest  belly  sex_f  sex_m  \n",
       "0   28.0   36.0      0      1  \n",
       "1   28.5   33.0      1      0  \n",
       "2   30.0   34.0      1      0  \n",
       "3   28.0   34.0      1      0  \n",
       "4   28.5   33.0      1      0  "
      ]
     },
     "execution_count": 26,
     "metadata": {},
     "output_type": "execute_result"
    }
   ],
   "source": [
    "#encoding categorical attributes using .get_dummies() \n",
    "data = pd.get_dummies(data = data, columns = ['sex'])\n",
    "data.head()"
   ]
  },
  {
   "cell_type": "code",
   "execution_count": 27,
   "id": "ce8b58a4",
   "metadata": {
    "execution": {
     "iopub.execute_input": "2022-12-09T14:14:58.183259Z",
     "iopub.status.busy": "2022-12-09T14:14:58.181660Z",
     "iopub.status.idle": "2022-12-09T14:14:58.190742Z",
     "shell.execute_reply": "2022-12-09T14:14:58.188731Z"
    },
    "papermill": {
     "duration": 0.032844,
     "end_time": "2022-12-09T14:14:58.193496",
     "exception": false,
     "start_time": "2022-12-09T14:14:58.160652",
     "status": "completed"
    },
    "tags": []
   },
   "outputs": [],
   "source": [
    "#drop both sex columns from X and assign to y\n",
    "X = data.drop(['sex_f', 'sex_m'], axis=1)\n",
    "y= data['sex_f']"
   ]
  },
  {
   "cell_type": "code",
   "execution_count": 28,
   "id": "f6ca2538",
   "metadata": {
    "execution": {
     "iopub.execute_input": "2022-12-09T14:14:58.236549Z",
     "iopub.status.busy": "2022-12-09T14:14:58.236114Z",
     "iopub.status.idle": "2022-12-09T14:14:58.244718Z",
     "shell.execute_reply": "2022-12-09T14:14:58.243108Z"
    },
    "papermill": {
     "duration": 0.033485,
     "end_time": "2022-12-09T14:14:58.247642",
     "exception": false,
     "start_time": "2022-12-09T14:14:58.214157",
     "status": "completed"
    },
    "tags": []
   },
   "outputs": [],
   "source": [
    "#train test split\n",
    "X_train,X_test,y_train,y_test = train_test_split(X,y,test_size=0.3,random_state=0)"
   ]
  },
  {
   "cell_type": "code",
   "execution_count": 29,
   "id": "44192f27",
   "metadata": {
    "execution": {
     "iopub.execute_input": "2022-12-09T14:14:58.288854Z",
     "iopub.status.busy": "2022-12-09T14:14:58.288480Z",
     "iopub.status.idle": "2022-12-09T14:14:58.296519Z",
     "shell.execute_reply": "2022-12-09T14:14:58.295382Z"
    },
    "papermill": {
     "duration": 0.031404,
     "end_time": "2022-12-09T14:14:58.298811",
     "exception": false,
     "start_time": "2022-12-09T14:14:58.267407",
     "status": "completed"
    },
    "tags": []
   },
   "outputs": [
    {
     "data": {
      "text/plain": [
       "90    0\n",
       "71    0\n",
       "53    0\n",
       "27    0\n",
       "18    1\n",
       "Name: sex_f, dtype: uint8"
      ]
     },
     "execution_count": 29,
     "metadata": {},
     "output_type": "execute_result"
    }
   ],
   "source": [
    "y_train.head()"
   ]
  },
  {
   "cell_type": "code",
   "execution_count": 30,
   "id": "447a822c",
   "metadata": {
    "execution": {
     "iopub.execute_input": "2022-12-09T14:14:58.340892Z",
     "iopub.status.busy": "2022-12-09T14:14:58.340541Z",
     "iopub.status.idle": "2022-12-09T14:14:58.352610Z",
     "shell.execute_reply": "2022-12-09T14:14:58.350864Z"
    },
    "papermill": {
     "duration": 0.03614,
     "end_time": "2022-12-09T14:14:58.355155",
     "exception": false,
     "start_time": "2022-12-09T14:14:58.319015",
     "status": "completed"
    },
    "tags": []
   },
   "outputs": [],
   "source": [
    "#scaling the data\n",
    "scaler = StandardScaler()\n",
    "\n",
    "X_train_scaled = scaler.fit_transform(X_train)\n",
    "X_test_scaled = scaler.transform(X_test)"
   ]
  },
  {
   "cell_type": "code",
   "execution_count": 31,
   "id": "ad02e903",
   "metadata": {
    "execution": {
     "iopub.execute_input": "2022-12-09T14:14:58.397758Z",
     "iopub.status.busy": "2022-12-09T14:14:58.397257Z",
     "iopub.status.idle": "2022-12-09T14:14:58.478987Z",
     "shell.execute_reply": "2022-12-09T14:14:58.477746Z"
    },
    "papermill": {
     "duration": 0.106754,
     "end_time": "2022-12-09T14:14:58.481751",
     "exception": false,
     "start_time": "2022-12-09T14:14:58.374997",
     "status": "completed"
    },
    "tags": []
   },
   "outputs": [],
   "source": [
    "#Logistic Regression of unscaled data\n",
    "lr = LogisticRegression(max_iter=5000)\n",
    "lr.fit(X_train, y_train)\n",
    "lr_pred = lr.predict(X_test)"
   ]
  },
  {
   "cell_type": "code",
   "execution_count": 32,
   "id": "4388e0b9",
   "metadata": {
    "execution": {
     "iopub.execute_input": "2022-12-09T14:14:58.524938Z",
     "iopub.status.busy": "2022-12-09T14:14:58.524548Z",
     "iopub.status.idle": "2022-12-09T14:14:58.544844Z",
     "shell.execute_reply": "2022-12-09T14:14:58.543497Z"
    },
    "papermill": {
     "duration": 0.045126,
     "end_time": "2022-12-09T14:14:58.547254",
     "exception": false,
     "start_time": "2022-12-09T14:14:58.502128",
     "status": "completed"
    },
    "tags": []
   },
   "outputs": [
    {
     "name": "stdout",
     "output_type": "stream",
     "text": [
      "              precision    recall  f1-score   support\n",
      "\n",
      "           0       0.79      0.79      0.79        19\n",
      "           1       0.69      0.69      0.69        13\n",
      "\n",
      "    accuracy                           0.75        32\n",
      "   macro avg       0.74      0.74      0.74        32\n",
      "weighted avg       0.75      0.75      0.75        32\n",
      "\n",
      "\n",
      "\n",
      "[[15  4]\n",
      " [ 4  9]]\n"
     ]
    }
   ],
   "source": [
    "print(classification_report(y_test,lr_pred))\n",
    "print('\\n')\n",
    "print(confusion_matrix(y_test,lr_pred))\n",
    "\n",
    "lr_acc = accuracy_score(y_test,lr_pred)"
   ]
  },
  {
   "cell_type": "code",
   "execution_count": 33,
   "id": "2b744ab5",
   "metadata": {
    "execution": {
     "iopub.execute_input": "2022-12-09T14:14:58.590108Z",
     "iopub.status.busy": "2022-12-09T14:14:58.589755Z",
     "iopub.status.idle": "2022-12-09T14:14:58.604144Z",
     "shell.execute_reply": "2022-12-09T14:14:58.602675Z"
    },
    "papermill": {
     "duration": 0.039737,
     "end_time": "2022-12-09T14:14:58.607048",
     "exception": false,
     "start_time": "2022-12-09T14:14:58.567311",
     "status": "completed"
    },
    "tags": []
   },
   "outputs": [],
   "source": [
    "#Logistic Regression of scaled data\n",
    "lr = LogisticRegression(max_iter=5000)\n",
    "lr.fit(X_train_scaled, y_train)\n",
    "lr_pred = lr.predict(X_test_scaled)"
   ]
  },
  {
   "cell_type": "code",
   "execution_count": 34,
   "id": "514a45cd",
   "metadata": {
    "execution": {
     "iopub.execute_input": "2022-12-09T14:14:58.650361Z",
     "iopub.status.busy": "2022-12-09T14:14:58.649979Z",
     "iopub.status.idle": "2022-12-09T14:14:58.664019Z",
     "shell.execute_reply": "2022-12-09T14:14:58.662465Z"
    },
    "papermill": {
     "duration": 0.039327,
     "end_time": "2022-12-09T14:14:58.666797",
     "exception": false,
     "start_time": "2022-12-09T14:14:58.627470",
     "status": "completed"
    },
    "tags": []
   },
   "outputs": [
    {
     "name": "stdout",
     "output_type": "stream",
     "text": [
      "              precision    recall  f1-score   support\n",
      "\n",
      "           0       0.75      0.79      0.77        19\n",
      "           1       0.67      0.62      0.64        13\n",
      "\n",
      "    accuracy                           0.72        32\n",
      "   macro avg       0.71      0.70      0.70        32\n",
      "weighted avg       0.72      0.72      0.72        32\n",
      "\n",
      "\n",
      "\n",
      "[[15  4]\n",
      " [ 5  8]]\n"
     ]
    }
   ],
   "source": [
    "print(classification_report(y_test,lr_pred))\n",
    "print('\\n')\n",
    "print(confusion_matrix(y_test,lr_pred))\n",
    "\n",
    "lr_acc = accuracy_score(y_test,lr_pred)"
   ]
  },
  {
   "cell_type": "code",
   "execution_count": 35,
   "id": "18cee9d8",
   "metadata": {
    "execution": {
     "iopub.execute_input": "2022-12-09T14:14:58.708769Z",
     "iopub.status.busy": "2022-12-09T14:14:58.708390Z",
     "iopub.status.idle": "2022-12-09T14:14:58.717260Z",
     "shell.execute_reply": "2022-12-09T14:14:58.716500Z"
    },
    "papermill": {
     "duration": 0.033266,
     "end_time": "2022-12-09T14:14:58.720083",
     "exception": false,
     "start_time": "2022-12-09T14:14:58.686817",
     "status": "completed"
    },
    "tags": []
   },
   "outputs": [],
   "source": [
    "#Decision Tree of unscaled data\n",
    "dtc = DecisionTreeClassifier()\n",
    "dtc.fit(X_train,y_train)\n",
    "dtc_pred = dtc.predict(X_test)"
   ]
  },
  {
   "cell_type": "code",
   "execution_count": 36,
   "id": "c179d38a",
   "metadata": {
    "execution": {
     "iopub.execute_input": "2022-12-09T14:14:58.762984Z",
     "iopub.status.busy": "2022-12-09T14:14:58.762462Z",
     "iopub.status.idle": "2022-12-09T14:14:58.772616Z",
     "shell.execute_reply": "2022-12-09T14:14:58.770696Z"
    },
    "papermill": {
     "duration": 0.034786,
     "end_time": "2022-12-09T14:14:58.775587",
     "exception": false,
     "start_time": "2022-12-09T14:14:58.740801",
     "status": "completed"
    },
    "tags": []
   },
   "outputs": [
    {
     "name": "stdout",
     "output_type": "stream",
     "text": [
      "              precision    recall  f1-score   support\n",
      "\n",
      "           0       0.73      0.58      0.65        19\n",
      "           1       0.53      0.69      0.60        13\n",
      "\n",
      "    accuracy                           0.62        32\n",
      "   macro avg       0.63      0.64      0.62        32\n",
      "weighted avg       0.65      0.62      0.63        32\n",
      "\n",
      "\n",
      "\n",
      "[[11  8]\n",
      " [ 4  9]]\n"
     ]
    }
   ],
   "source": [
    "print(classification_report(y_test,dtc_pred))\n",
    "print('\\n')\n",
    "print(confusion_matrix(y_test,dtc_pred))\n",
    "\n",
    "dtc_acc = accuracy_score(y_test,dtc_pred)"
   ]
  },
  {
   "cell_type": "code",
   "execution_count": 37,
   "id": "201adfdf",
   "metadata": {
    "execution": {
     "iopub.execute_input": "2022-12-09T14:14:58.819051Z",
     "iopub.status.busy": "2022-12-09T14:14:58.818493Z",
     "iopub.status.idle": "2022-12-09T14:14:58.823705Z",
     "shell.execute_reply": "2022-12-09T14:14:58.822834Z"
    },
    "papermill": {
     "duration": 0.029417,
     "end_time": "2022-12-09T14:14:58.826120",
     "exception": false,
     "start_time": "2022-12-09T14:14:58.796703",
     "status": "completed"
    },
    "tags": []
   },
   "outputs": [],
   "source": [
    "#Decision Tree of scaled data\n",
    "dtc = DecisionTreeClassifier()\n",
    "dtc.fit(X_train_scaled,y_train)\n",
    "dtc_pred = dtc.predict(X_test_scaled)"
   ]
  },
  {
   "cell_type": "code",
   "execution_count": 38,
   "id": "322aca6d",
   "metadata": {
    "execution": {
     "iopub.execute_input": "2022-12-09T14:14:58.869171Z",
     "iopub.status.busy": "2022-12-09T14:14:58.868784Z",
     "iopub.status.idle": "2022-12-09T14:14:58.880094Z",
     "shell.execute_reply": "2022-12-09T14:14:58.878522Z"
    },
    "papermill": {
     "duration": 0.035929,
     "end_time": "2022-12-09T14:14:58.882767",
     "exception": false,
     "start_time": "2022-12-09T14:14:58.846838",
     "status": "completed"
    },
    "tags": []
   },
   "outputs": [
    {
     "name": "stdout",
     "output_type": "stream",
     "text": [
      "              precision    recall  f1-score   support\n",
      "\n",
      "           0       0.69      0.47      0.56        19\n",
      "           1       0.47      0.69      0.56        13\n",
      "\n",
      "    accuracy                           0.56        32\n",
      "   macro avg       0.58      0.58      0.56        32\n",
      "weighted avg       0.60      0.56      0.56        32\n",
      "\n",
      "\n",
      "\n",
      "[[ 9 10]\n",
      " [ 4  9]]\n"
     ]
    }
   ],
   "source": [
    "print(classification_report(y_test,dtc_pred))\n",
    "print('\\n')\n",
    "print(confusion_matrix(y_test,dtc_pred))\n",
    "\n",
    "dtc_acc = accuracy_score(y_test,dtc_pred)"
   ]
  },
  {
   "cell_type": "code",
   "execution_count": 39,
   "id": "8f1d6660",
   "metadata": {
    "execution": {
     "iopub.execute_input": "2022-12-09T14:14:58.926035Z",
     "iopub.status.busy": "2022-12-09T14:14:58.924664Z",
     "iopub.status.idle": "2022-12-09T14:14:59.052092Z",
     "shell.execute_reply": "2022-12-09T14:14:59.050889Z"
    },
    "papermill": {
     "duration": 0.15142,
     "end_time": "2022-12-09T14:14:59.054498",
     "exception": false,
     "start_time": "2022-12-09T14:14:58.903078",
     "status": "completed"
    },
    "tags": []
   },
   "outputs": [],
   "source": [
    "#Random Forest of unscaled data\n",
    "rf = RandomForestClassifier()\n",
    "rf.fit(X_train,y_train)\n",
    "rf_pred = rf.predict(X_test)"
   ]
  },
  {
   "cell_type": "code",
   "execution_count": 40,
   "id": "82ad0f17",
   "metadata": {
    "execution": {
     "iopub.execute_input": "2022-12-09T14:14:59.096816Z",
     "iopub.status.busy": "2022-12-09T14:14:59.095765Z",
     "iopub.status.idle": "2022-12-09T14:14:59.108981Z",
     "shell.execute_reply": "2022-12-09T14:14:59.107519Z"
    },
    "papermill": {
     "duration": 0.037126,
     "end_time": "2022-12-09T14:14:59.111630",
     "exception": false,
     "start_time": "2022-12-09T14:14:59.074504",
     "status": "completed"
    },
    "tags": []
   },
   "outputs": [
    {
     "name": "stdout",
     "output_type": "stream",
     "text": [
      "              precision    recall  f1-score   support\n",
      "\n",
      "           0       0.78      0.74      0.76        19\n",
      "           1       0.64      0.69      0.67        13\n",
      "\n",
      "    accuracy                           0.72        32\n",
      "   macro avg       0.71      0.71      0.71        32\n",
      "weighted avg       0.72      0.72      0.72        32\n",
      "\n",
      "\n",
      "\n",
      "[[14  5]\n",
      " [ 4  9]]\n"
     ]
    }
   ],
   "source": [
    "print(classification_report(y_test,rf_pred))\n",
    "print('\\n')\n",
    "print(confusion_matrix(y_test,rf_pred))\n",
    "\n",
    "rf_acc = accuracy_score(y_test,rf_pred)"
   ]
  },
  {
   "cell_type": "code",
   "execution_count": 41,
   "id": "9a71662c",
   "metadata": {
    "execution": {
     "iopub.execute_input": "2022-12-09T14:14:59.155118Z",
     "iopub.status.busy": "2022-12-09T14:14:59.154631Z",
     "iopub.status.idle": "2022-12-09T14:14:59.278257Z",
     "shell.execute_reply": "2022-12-09T14:14:59.277131Z"
    },
    "papermill": {
     "duration": 0.14836,
     "end_time": "2022-12-09T14:14:59.280848",
     "exception": false,
     "start_time": "2022-12-09T14:14:59.132488",
     "status": "completed"
    },
    "tags": []
   },
   "outputs": [],
   "source": [
    "#Random Forest of scaled data\n",
    "rf = RandomForestClassifier()\n",
    "rf.fit(X_train_scaled,y_train)\n",
    "rf_pred = rf.predict(X_test_scaled)"
   ]
  },
  {
   "cell_type": "code",
   "execution_count": 42,
   "id": "e24f0200",
   "metadata": {
    "execution": {
     "iopub.execute_input": "2022-12-09T14:14:59.323501Z",
     "iopub.status.busy": "2022-12-09T14:14:59.323071Z",
     "iopub.status.idle": "2022-12-09T14:14:59.334614Z",
     "shell.execute_reply": "2022-12-09T14:14:59.333885Z"
    },
    "papermill": {
     "duration": 0.035679,
     "end_time": "2022-12-09T14:14:59.336961",
     "exception": false,
     "start_time": "2022-12-09T14:14:59.301282",
     "status": "completed"
    },
    "tags": []
   },
   "outputs": [
    {
     "name": "stdout",
     "output_type": "stream",
     "text": [
      "              precision    recall  f1-score   support\n",
      "\n",
      "           0       0.65      0.68      0.67        19\n",
      "           1       0.50      0.46      0.48        13\n",
      "\n",
      "    accuracy                           0.59        32\n",
      "   macro avg       0.57      0.57      0.57        32\n",
      "weighted avg       0.59      0.59      0.59        32\n",
      "\n",
      "\n",
      "\n",
      "[[13  6]\n",
      " [ 7  6]]\n"
     ]
    }
   ],
   "source": [
    "print(classification_report(y_test,rf_pred))\n",
    "print('\\n')\n",
    "print(confusion_matrix(y_test,rf_pred))\n",
    "\n",
    "rf_acc = accuracy_score(y_test,rf_pred)"
   ]
  },
  {
   "cell_type": "code",
   "execution_count": 43,
   "id": "e7db7654",
   "metadata": {
    "execution": {
     "iopub.execute_input": "2022-12-09T14:14:59.380941Z",
     "iopub.status.busy": "2022-12-09T14:14:59.380385Z",
     "iopub.status.idle": "2022-12-09T14:14:59.389683Z",
     "shell.execute_reply": "2022-12-09T14:14:59.388661Z"
    },
    "papermill": {
     "duration": 0.033647,
     "end_time": "2022-12-09T14:14:59.392062",
     "exception": false,
     "start_time": "2022-12-09T14:14:59.358415",
     "status": "completed"
    },
    "tags": []
   },
   "outputs": [],
   "source": [
    "#K Nearest Neighbors of unscaled data\n",
    "knc = KNeighborsClassifier(2)\n",
    "knc.fit(X_train,y_train)\n",
    "knc_pred = knc.predict(X_test)"
   ]
  },
  {
   "cell_type": "code",
   "execution_count": 44,
   "id": "2e9fdcb1",
   "metadata": {
    "execution": {
     "iopub.execute_input": "2022-12-09T14:14:59.435086Z",
     "iopub.status.busy": "2022-12-09T14:14:59.434536Z",
     "iopub.status.idle": "2022-12-09T14:14:59.444930Z",
     "shell.execute_reply": "2022-12-09T14:14:59.443593Z"
    },
    "papermill": {
     "duration": 0.034307,
     "end_time": "2022-12-09T14:14:59.447379",
     "exception": false,
     "start_time": "2022-12-09T14:14:59.413072",
     "status": "completed"
    },
    "tags": []
   },
   "outputs": [
    {
     "name": "stdout",
     "output_type": "stream",
     "text": [
      "              precision    recall  f1-score   support\n",
      "\n",
      "           0       0.70      0.84      0.76        19\n",
      "           1       0.67      0.46      0.55        13\n",
      "\n",
      "    accuracy                           0.69        32\n",
      "   macro avg       0.68      0.65      0.65        32\n",
      "weighted avg       0.68      0.69      0.67        32\n",
      "\n",
      "\n",
      "\n",
      "[[16  3]\n",
      " [ 7  6]]\n"
     ]
    }
   ],
   "source": [
    "print(classification_report(y_test,knc_pred))\n",
    "print('\\n')\n",
    "print(confusion_matrix(y_test,knc_pred))\n",
    "\n",
    "knc_acc = accuracy_score(y_test,knc_pred)"
   ]
  },
  {
   "cell_type": "code",
   "execution_count": 45,
   "id": "4d68a837",
   "metadata": {
    "execution": {
     "iopub.execute_input": "2022-12-09T14:14:59.489964Z",
     "iopub.status.busy": "2022-12-09T14:14:59.489582Z",
     "iopub.status.idle": "2022-12-09T14:14:59.498874Z",
     "shell.execute_reply": "2022-12-09T14:14:59.497390Z"
    },
    "papermill": {
     "duration": 0.032891,
     "end_time": "2022-12-09T14:14:59.501034",
     "exception": false,
     "start_time": "2022-12-09T14:14:59.468143",
     "status": "completed"
    },
    "tags": []
   },
   "outputs": [],
   "source": [
    "#K Nearest Neighbors of scaled data\n",
    "knc = KNeighborsClassifier(2)\n",
    "knc.fit(X_train_scaled,y_train)\n",
    "knc_pred = knc.predict(X_test_scaled)"
   ]
  },
  {
   "cell_type": "code",
   "execution_count": 46,
   "id": "46c77e1b",
   "metadata": {
    "execution": {
     "iopub.execute_input": "2022-12-09T14:14:59.543216Z",
     "iopub.status.busy": "2022-12-09T14:14:59.542763Z",
     "iopub.status.idle": "2022-12-09T14:14:59.558024Z",
     "shell.execute_reply": "2022-12-09T14:14:59.556207Z"
    },
    "papermill": {
     "duration": 0.038899,
     "end_time": "2022-12-09T14:14:59.560323",
     "exception": false,
     "start_time": "2022-12-09T14:14:59.521424",
     "status": "completed"
    },
    "tags": []
   },
   "outputs": [
    {
     "name": "stdout",
     "output_type": "stream",
     "text": [
      "              precision    recall  f1-score   support\n",
      "\n",
      "           0       0.64      0.74      0.68        19\n",
      "           1       0.50      0.38      0.43        13\n",
      "\n",
      "    accuracy                           0.59        32\n",
      "   macro avg       0.57      0.56      0.56        32\n",
      "weighted avg       0.58      0.59      0.58        32\n",
      "\n",
      "\n",
      "\n",
      "[[14  5]\n",
      " [ 8  5]]\n"
     ]
    }
   ],
   "source": [
    "print(classification_report(y_test,knc_pred))\n",
    "print('\\n')\n",
    "print(confusion_matrix(y_test,knc_pred))\n",
    "\n",
    "knc_acc = accuracy_score(y_test,knc_pred)"
   ]
  },
  {
   "cell_type": "code",
   "execution_count": 47,
   "id": "43cd8c9f",
   "metadata": {
    "execution": {
     "iopub.execute_input": "2022-12-09T14:14:59.602526Z",
     "iopub.status.busy": "2022-12-09T14:14:59.602165Z",
     "iopub.status.idle": "2022-12-09T14:14:59.785224Z",
     "shell.execute_reply": "2022-12-09T14:14:59.784434Z"
    },
    "papermill": {
     "duration": 0.20705,
     "end_time": "2022-12-09T14:14:59.787861",
     "exception": false,
     "start_time": "2022-12-09T14:14:59.580811",
     "status": "completed"
    },
    "tags": []
   },
   "outputs": [],
   "source": [
    "#XGBoost of unscaled data\n",
    "xgc = XGBClassifier()\n",
    "xgc.fit(X_train,y_train)\n",
    "xgc_pred = xgc.predict(X_test)"
   ]
  },
  {
   "cell_type": "code",
   "execution_count": 48,
   "id": "5e344b0c",
   "metadata": {
    "execution": {
     "iopub.execute_input": "2022-12-09T14:14:59.832741Z",
     "iopub.status.busy": "2022-12-09T14:14:59.831573Z",
     "iopub.status.idle": "2022-12-09T14:14:59.844921Z",
     "shell.execute_reply": "2022-12-09T14:14:59.843410Z"
    },
    "papermill": {
     "duration": 0.038671,
     "end_time": "2022-12-09T14:14:59.848289",
     "exception": false,
     "start_time": "2022-12-09T14:14:59.809618",
     "status": "completed"
    },
    "tags": []
   },
   "outputs": [
    {
     "name": "stdout",
     "output_type": "stream",
     "text": [
      "              precision    recall  f1-score   support\n",
      "\n",
      "           0       0.78      0.74      0.76        19\n",
      "           1       0.64      0.69      0.67        13\n",
      "\n",
      "    accuracy                           0.72        32\n",
      "   macro avg       0.71      0.71      0.71        32\n",
      "weighted avg       0.72      0.72      0.72        32\n",
      "\n",
      "\n",
      "\n",
      "[[14  5]\n",
      " [ 4  9]]\n"
     ]
    }
   ],
   "source": [
    "print(classification_report(y_test,xgc_pred))\n",
    "print('\\n')\n",
    "print(confusion_matrix(y_test,xgc_pred))\n",
    "\n",
    "xgc_acc = accuracy_score(y_test,xgc_pred)"
   ]
  },
  {
   "cell_type": "code",
   "execution_count": 49,
   "id": "d68a9deb",
   "metadata": {
    "execution": {
     "iopub.execute_input": "2022-12-09T14:14:59.892932Z",
     "iopub.status.busy": "2022-12-09T14:14:59.892544Z",
     "iopub.status.idle": "2022-12-09T14:15:00.122096Z",
     "shell.execute_reply": "2022-12-09T14:15:00.121284Z"
    },
    "papermill": {
     "duration": 0.254329,
     "end_time": "2022-12-09T14:15:00.124642",
     "exception": false,
     "start_time": "2022-12-09T14:14:59.870313",
     "status": "completed"
    },
    "tags": []
   },
   "outputs": [],
   "source": [
    "#XGBoost of scaled data\n",
    "xgc = XGBClassifier()\n",
    "xgc.fit(X_train_scaled,y_train)\n",
    "xgc_pred = xgc.predict(X_test_scaled)"
   ]
  },
  {
   "cell_type": "code",
   "execution_count": 50,
   "id": "7d89433e",
   "metadata": {
    "execution": {
     "iopub.execute_input": "2022-12-09T14:15:00.168883Z",
     "iopub.status.busy": "2022-12-09T14:15:00.168037Z",
     "iopub.status.idle": "2022-12-09T14:15:00.177992Z",
     "shell.execute_reply": "2022-12-09T14:15:00.177075Z"
    },
    "papermill": {
     "duration": 0.034639,
     "end_time": "2022-12-09T14:15:00.180682",
     "exception": false,
     "start_time": "2022-12-09T14:15:00.146043",
     "status": "completed"
    },
    "tags": []
   },
   "outputs": [
    {
     "name": "stdout",
     "output_type": "stream",
     "text": [
      "              precision    recall  f1-score   support\n",
      "\n",
      "           0       0.68      0.68      0.68        19\n",
      "           1       0.54      0.54      0.54        13\n",
      "\n",
      "    accuracy                           0.62        32\n",
      "   macro avg       0.61      0.61      0.61        32\n",
      "weighted avg       0.62      0.62      0.62        32\n",
      "\n",
      "\n",
      "\n",
      "[[13  6]\n",
      " [ 6  7]]\n"
     ]
    }
   ],
   "source": [
    "print(classification_report(y_test,xgc_pred))\n",
    "print('\\n')\n",
    "print(confusion_matrix(y_test,xgc_pred))\n",
    "\n",
    "xgc_acc = accuracy_score(y_test,xgc_pred)"
   ]
  },
  {
   "cell_type": "markdown",
   "id": "fd67337e",
   "metadata": {
    "papermill": {
     "duration": 0.020107,
     "end_time": "2022-12-09T14:15:00.222442",
     "exception": false,
     "start_time": "2022-12-09T14:15:00.202335",
     "status": "completed"
    },
    "tags": []
   },
   "source": [
    "# Conclusions:\n",
    "* The sex of possums was predicted using LogisticRegression, DecisionTree, RandomForest, K Nearest Neighbors and XGBoost\n",
    "* Unscaled data actually preformed better than scaled data (except for DecisionTree where both were the same)\n",
    "* LogisticRegression and Random Forest (of unscaled data) preformed the best of all models when considering presicion, recall and f1-score in combination (all three values are 0.79 for each)\n",
    "* Relatively low precision and recall scores can likely be attributed at least in part due to the fact that the dataset contains only 104 entries. Before focusing on improving ML calculations, it is pertinent to obtain more data"
   ]
  }
 ],
 "metadata": {
  "kernelspec": {
   "display_name": "Python 3",
   "language": "python",
   "name": "python3"
  },
  "language_info": {
   "codemirror_mode": {
    "name": "ipython",
    "version": 3
   },
   "file_extension": ".py",
   "mimetype": "text/x-python",
   "name": "python",
   "nbconvert_exporter": "python",
   "pygments_lexer": "ipython3",
   "version": "3.7.12"
  },
  "papermill": {
   "default_parameters": {},
   "duration": 22.582275,
   "end_time": "2022-12-09T14:15:01.264075",
   "environment_variables": {},
   "exception": null,
   "input_path": "__notebook__.ipynb",
   "output_path": "__notebook__.ipynb",
   "parameters": {},
   "start_time": "2022-12-09T14:14:38.681800",
   "version": "2.3.4"
  }
 },
 "nbformat": 4,
 "nbformat_minor": 5
}
